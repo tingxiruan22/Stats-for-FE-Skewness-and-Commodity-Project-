{
 "cells": [
  {
   "cell_type": "code",
   "execution_count": 1,
   "metadata": {},
   "outputs": [],
   "source": [
    "import datetime\n",
    "import pandas as pd\n",
    "import matplotlib.pyplot as plt\n",
    "import numpy as np\n",
    "from scipy.optimize import minimize\n",
    "from copy import copy\n",
    "import random\n",
    "\n",
    "def pd_readcsv(filename):\n",
    "    \"\"\"\n",
    "    Reads the pandas dataframe from a filename, given the index is correctly labelled\n",
    "    \"\"\"\n",
    "    ans=pd.read_csv(filename)\n",
    "    ans.index=pd.to_datetime(ans['DATETIME'])\n",
    "    del ans['DATETIME']\n",
    "    ans.index.name=None\n",
    "    \n",
    "    return ans\n",
    "\n",
    "def log_return(data):\n",
    "    \"\"\"\n",
    "    input: an price dataframe\n",
    "    output: dataframe with log return\n",
    "    \"\"\"\n",
    "    price = data['ADJ'].ffill()\n",
    "    r = np.log(price) - np.log(price.shift(1))\n",
    "    \n",
    "    return r"
   ]
  },
  {
   "cell_type": "code",
   "execution_count": 2,
   "metadata": {},
   "outputs": [],
   "source": [
    "import os\n",
    "\n",
    "def get_code(directory):\n",
    "    \"\"\"\n",
    "    get a list of instrument code from specified directory\n",
    "    input: dir\n",
    "    output: list\n",
    "    \"\"\"\n",
    "    filelist = []\n",
    "    \n",
    "    # directory for Windows\n",
    "    # directory = directory + '\\\\data'\n",
    "    \n",
    "    # directory for MacOS\n",
    "    directory = directory + '/data'\n",
    "    \n",
    "    for filename in os.listdir(directory):\n",
    "        if'_price.csv' in filename:\n",
    "            filelist.append(filename)\n",
    "    return filelist\n",
    "        \n",
    "directory = os.getcwd()\n",
    "filelist = get_code(directory)"
   ]
  },
  {
   "cell_type": "code",
   "execution_count": 3,
   "metadata": {},
   "outputs": [
    {
     "name": "stdout",
     "output_type": "stream",
     "text": [
      "['CORN_price.csv', 'SP500_price.csv', 'SOYBEAN_price.csv', 'PALLAD_price.csv', 'KOSPI_price.csv', 'BUND_price.csv', 'NASDAQ_price.csv', 'CAC_price.csv', 'KR10_price.csv', 'BOBL_price.csv', 'LEANHOG_price.csv', 'US20_price.csv', 'SHATZ_price.csv', 'BTP_price.csv', 'GBP_price.csv', 'COPPER_price.csv', 'MXP_price.csv', 'US2_price.csv', 'V2X_price.csv', 'OAT_price.csv', 'EUROSTX_price.csv', 'VIX_price.csv', 'CRUDE_W_price.csv', 'LIVECOW_price.csv', 'SMI_price.csv', 'US10_price.csv', 'AEX_price.csv', 'EUR_price.csv', 'PLAT_price.csv', 'GOLD_price.csv', 'EDOLLAR_price.csv', 'GAS_US_price.csv', 'KR3_price.csv', 'JPY_price.csv', 'US5_price.csv', 'NZD_price.csv', 'AUD_price.csv', 'WHEAT_price.csv']\n"
     ]
    }
   ],
   "source": [
    "print(filelist)"
   ]
  },
  {
   "cell_type": "markdown",
   "metadata": {},
   "source": [
    "# 1a. Historgram to check skew for single stock"
   ]
  },
  {
   "cell_type": "code",
   "execution_count": 6,
   "metadata": {},
   "outputs": [
    {
     "name": "stdout",
     "output_type": "stream",
     "text": [
      "CORN\n",
      "SP500\n",
      "SOYBEAN\n",
      "PALLAD\n",
      "KOSPI\n",
      "BUND\n",
      "NASDAQ\n",
      "CAC\n",
      "KR10\n",
      "BOBL\n",
      "LEANHOG\n",
      "US20\n",
      "SHATZ\n",
      "BTP\n",
      "GBP\n",
      "COPPER\n",
      "MXP\n",
      "US2\n",
      "V2X\n",
      "OAT\n",
      "EUROSTX\n",
      "VIX\n",
      "CRUDE_W\n",
      "LIVECOW\n",
      "SMI\n",
      "US10\n",
      "AEX\n",
      "EUR\n",
      "PLAT\n"
     ]
    },
    {
     "name": "stderr",
     "output_type": "stream",
     "text": [
      "/opt/anaconda3/lib/python3.8/site-packages/pandas/core/series.py:679: RuntimeWarning: invalid value encountered in log\n",
      "  result = getattr(ufunc, method)(*inputs, **kwargs)\n"
     ]
    },
    {
     "name": "stdout",
     "output_type": "stream",
     "text": [
      "GOLD\n",
      "EDOLLAR\n",
      "GAS_US\n",
      "KR3\n",
      "JPY\n",
      "US5\n",
      "NZD\n",
      "AUD\n",
      "WHEAT\n"
     ]
    },
    {
     "data": {
      "text/plain": [
       "<seaborn.axisgrid.FacetGrid at 0x7fb3a68877f0>"
      ]
     },
     "execution_count": 6,
     "metadata": {},
     "output_type": "execute_result"
    },
    {
     "data": {
      "image/png": "[encoded data removed]",
      "text/plain": [
       "<Figure size 360x360 with 1 Axes>"
      ]
     },
     "metadata": {
      "needs_background": "light"
     },
     "output_type": "display_data"
    }
   ],
   "source": [
    "import seaborn as sns\n",
    "\n",
    "log_returns_dict = {}\n",
    "for stock in filelist:\n",
    "    data = pd_readcsv('data/'+ stock)\n",
    "    r = log_return(data)\n",
    "    name = stock.replace('_price.csv','')\n",
    "    #print(name)\n",
    "    log_returns_dict[name] = r\n",
    "    \n",
    "\n",
    "sns.displot(log_returns_dict['VIX'], kind='kde', fill=True)"
   ]
  },
  {
   "cell_type": "code",
   "execution_count": 7,
   "metadata": {},
   "outputs": [
    {
     "data": {
      "text/plain": [
       "0.6677037664816884"
      ]
     },
     "execution_count": 7,
     "metadata": {},
     "output_type": "execute_result"
    }
   ],
   "source": [
    "log_returns_dict['VIX'].skew()"
   ]
  },
  {
   "cell_type": "markdown",
   "metadata": {},
   "source": [
    "# 1b. Resampled skewness for all futures"
   ]
  },
  {
   "cell_type": "code",
   "execution_count": 12,
   "metadata": {},
   "outputs": [],
   "source": [
    "def resampled_skew(data, niter=500):\n",
    "    \"\"\"\n",
    "    resample the skew to lower estimate error\n",
    "    \"\"\"\n",
    "    skew_distribution = []\n",
    "    for i in range(niter):\n",
    "        resample_index = [int(random.uniform(0,len(data))) for _ in range(len(data))] #resampe with replacement\n",
    "        resample_data = data[resample_index]\n",
    "        resample_skew = resample_data.skew()\n",
    "        skew_distribution.append(resample_skew)\n",
    "    return skew_distribution"
   ]
  },
  {
   "cell_type": "code",
   "execution_count": 13,
   "metadata": {},
   "outputs": [
    {
     "name": "stdout",
     "output_type": "stream",
     "text": [
      "/Users/terry/spyder-workspace/data/CORN_price.csv\n",
      "/Users/terry/spyder-workspace/data/SP500_price.csv\n",
      "/Users/terry/spyder-workspace/data/SOYBEAN_price.csv\n",
      "/Users/terry/spyder-workspace/data/PALLAD_price.csv\n",
      "/Users/terry/spyder-workspace/data/KOSPI_price.csv\n",
      "/Users/terry/spyder-workspace/data/BUND_price.csv\n",
      "/Users/terry/spyder-workspace/data/NASDAQ_price.csv\n",
      "/Users/terry/spyder-workspace/data/CAC_price.csv\n",
      "/Users/terry/spyder-workspace/data/KR10_price.csv\n",
      "/Users/terry/spyder-workspace/data/BOBL_price.csv\n",
      "/Users/terry/spyder-workspace/data/LEANHOG_price.csv\n",
      "/Users/terry/spyder-workspace/data/US20_price.csv\n",
      "/Users/terry/spyder-workspace/data/SHATZ_price.csv\n",
      "/Users/terry/spyder-workspace/data/BTP_price.csv\n",
      "/Users/terry/spyder-workspace/data/GBP_price.csv\n",
      "/Users/terry/spyder-workspace/data/COPPER_price.csv\n",
      "/Users/terry/spyder-workspace/data/MXP_price.csv\n",
      "/Users/terry/spyder-workspace/data/US2_price.csv\n",
      "/Users/terry/spyder-workspace/data/V2X_price.csv\n",
      "/Users/terry/spyder-workspace/data/OAT_price.csv\n",
      "/Users/terry/spyder-workspace/data/EUROSTX_price.csv\n",
      "/Users/terry/spyder-workspace/data/VIX_price.csv\n",
      "/Users/terry/spyder-workspace/data/CRUDE_W_price.csv\n",
      "/Users/terry/spyder-workspace/data/LIVECOW_price.csv\n",
      "/Users/terry/spyder-workspace/data/SMI_price.csv\n",
      "/Users/terry/spyder-workspace/data/US10_price.csv\n",
      "/Users/terry/spyder-workspace/data/AEX_price.csv\n",
      "/Users/terry/spyder-workspace/data/EUR_price.csv\n",
      "/Users/terry/spyder-workspace/data/PLAT_price.csv\n",
      "/Users/terry/spyder-workspace/data/GOLD_price.csv\n",
      "/Users/terry/spyder-workspace/data/EDOLLAR_price.csv\n",
      "/Users/terry/spyder-workspace/data/GAS_US_price.csv\n",
      "/Users/terry/spyder-workspace/data/KR3_price.csv\n",
      "/Users/terry/spyder-workspace/data/JPY_price.csv\n",
      "/Users/terry/spyder-workspace/data/US5_price.csv\n",
      "/Users/terry/spyder-workspace/data/NZD_price.csv\n",
      "/Users/terry/spyder-workspace/data/AUD_price.csv\n",
      "/Users/terry/spyder-workspace/data/WHEAT_price.csv\n"
     ]
    }
   ],
   "source": [
    "skew_distribution_dict = {}\n",
    "for file in filelist:\n",
    "    try:\n",
    "        name = file.replace('_price.csv','')\n",
    "        abs_path = os.getcwd() + '/data/' + file\n",
    "        #print(abs_path)\n",
    "        data = pd_readcsv(abs_path)\n",
    "        r = log_return(data)\n",
    "        x = resampled_skew(r)\n",
    "        y = pd.Series(x)\n",
    "        skew_distribution_dict[name] = y\n",
    "    except Exception as e:\n",
    "        print(f\"Error: {e}, at loading {name}\")\n",
    "        \n",
    "    \n",
    "df_skew_distribution = pd.DataFrame(skew_distribution_dict)\n",
    "df_skew_distribution = df_skew_distribution.reindex(df_skew_distribution.mean().sort_values().index,axis=1)    "
   ]
  },
  {
   "cell_type": "code",
   "execution_count": 14,
   "metadata": {},
   "outputs": [
    {
     "data": {
      "image/png": "[encoded data removed]",
      "text/plain": [
       "<Figure size 432x288 with 1 Axes>"
      ]
     },
     "metadata": {
      "needs_background": "light"
     },
     "output_type": "display_data"
    }
   ],
   "source": [
    "df_skew_distribution.boxplot()\n",
    "plt.xticks(rotation=90)\n",
    "plt.show()"
   ]
  },
  {
   "cell_type": "code",
   "execution_count": 15,
   "metadata": {
    "scrolled": true
   },
   "outputs": [
    {
     "data": {
      "image/png": "[encoded data removed]",
      "text/plain": [
       "<Figure size 432x288 with 1 Axes>"
      ]
     },
     "metadata": {
      "needs_background": "light"
     },
     "output_type": "display_data"
    }
   ],
   "source": [
    "new_df = df_skew_distribution.drop(columns=['LEANHOG','CRUDE_W'])\n",
    "new_df.boxplot()\n",
    "plt.xticks(rotation=90)\n",
    "plt.show()"
   ]
  },
  {
   "cell_type": "markdown",
   "metadata": {},
   "source": [
    "# 2a. Bootstrapped expected return vs. skew"
   ]
  },
  {
   "cell_type": "code",
   "execution_count": 16,
   "metadata": {},
   "outputs": [
    {
     "name": "stdout",
     "output_type": "stream",
     "text": [
      "CORN\n",
      "SP500\n",
      "SOYBEAN\n"
     ]
    },
    {
     "name": "stderr",
     "output_type": "stream",
     "text": [
      "/opt/anaconda3/lib/python3.8/site-packages/pandas/core/series.py:679: RuntimeWarning: invalid value encountered in log\n",
      "  result = getattr(ufunc, method)(*inputs, **kwargs)\n"
     ]
    },
    {
     "name": "stdout",
     "output_type": "stream",
     "text": [
      "PALLAD\n",
      "KOSPI\n",
      "BUND\n",
      "NASDAQ\n",
      "CAC\n",
      "KR10\n",
      "BOBL\n",
      "LEANHOG\n",
      "US20\n",
      "SHATZ\n",
      "BTP\n",
      "GBP\n",
      "COPPER\n",
      "MXP\n",
      "US2\n",
      "V2X\n",
      "OAT\n",
      "EUROSTX\n",
      "VIX\n",
      "CRUDE_W\n",
      "LIVECOW\n",
      "SMI\n",
      "US10\n",
      "AEX\n",
      "EUR\n",
      "PLAT\n",
      "GOLD\n",
      "EDOLLAR\n",
      "GAS_US\n",
      "KR3\n",
      "JPY\n",
      "US5\n",
      "NZD\n",
      "AUD\n",
      "WHEAT\n"
     ]
    }
   ],
   "source": [
    "def resample_mean(data, niter=500):\n",
    "    mean_est_distribution = []\n",
    "    for _ in range(niter):\n",
    "        resample_index = [int(random.uniform(0,len(data))) for _ in range(len(data))]\n",
    "        resample_data = data[resample_index]\n",
    "        mean_est = resample_data.mean()\n",
    "        mean_est_distribution.append(mean_est)\n",
    "        \n",
    "    return mean_est_distribution\n",
    "\n",
    "df_mean_distribution = {}\n",
    "for file in filelist:\n",
    "    try:\n",
    "        name = file.replace('_price.csv','')\n",
    "        #print(name)\n",
    "        abs_path = os.getcwd() + '/data/' + file\n",
    "        data = pd_readcsv(abs_path)\n",
    "        r = log_return(data)\n",
    "        x = resample_mean(r)\n",
    "        y = pd.Series(x)\n",
    "        df_mean_distribution[name] = y\n",
    "    except Exception as e:\n",
    "        print(f\"Error: {e}, at loading {name}\")\n",
    "        "
   ]
  },
  {
   "cell_type": "code",
   "execution_count": 17,
   "metadata": {},
   "outputs": [
    {
     "data": {
      "image/png": "[encoded data removed]",
      "text/plain": [
       "<Figure size 432x288 with 1 Axes>"
      ]
     },
     "metadata": {
      "needs_background": "light"
     },
     "output_type": "display_data"
    }
   ],
   "source": [
    "df_mean_distribution = pd.DataFrame(df_mean_distribution)\n",
    "df_mean_distribution = df_mean_distribution[new_df.columns]\n",
    "df_mean_distribution.boxplot()\n",
    "plt.xticks(rotation=90)\n",
    "plt.show()"
   ]
  },
  {
   "cell_type": "markdown",
   "metadata": {},
   "source": [
    "## lump stocks into skews above average and below average"
   ]
  },
  {
   "cell_type": "code",
   "execution_count": 18,
   "metadata": {},
   "outputs": [],
   "source": [
    "# calculate the mean skew for each security\n",
    "skew_by_code = df_skew_distribution.mean()\n",
    "# calculate the mean for all securities\n",
    "avg_skew = np.mean(skew_by_code.values)\n",
    "# find the stocks with lower/higher than avergage skew\n",
    "low_skew_codes = list(skew_by_code[skew_by_code<avg_skew].index)\n",
    "high_skew_codes = list(skew_by_code[skew_by_code>=avg_skew].index)\n"
   ]
  },
  {
   "cell_type": "code",
   "execution_count": 19,
   "metadata": {},
   "outputs": [],
   "source": [
    "def resampled_mean_estimator_multiple_codes(returns, code_list, niter=500):\n",
    "    mean_estimate_distribution = []\n",
    "    for _ in range(niter):\n",
    "        # randomly choose a stock in the given list       \n",
    "        code = code_list[int(random.uniform(0, len(code_list)))]\n",
    "        data = returns[code]\n",
    "        # resample the return of that stock\n",
    "        resample_index = [int(random.uniform(0,len(data))) for _ in range(len(data))]\n",
    "        resampled_data = data[resample_index]\n",
    "        sample_mean_estimate = resampled_data.mean()\n",
    "        mean_estimate_distribution.append(sample_mean_estimate)\n",
    "\n",
    "    return mean_estimate_distribution\n",
    "\n",
    "df_mean_distribution_multiple = dict()\n",
    "df_mean_distribution_multiple['High skew'] = resampled_mean_estimator_multiple_codes(log_returns_dict,high_skew_codes,1000)\n",
    "df_mean_distribution_multiple['Low skew'] = resampled_mean_estimator_multiple_codes(log_returns_dict,low_skew_codes,1000)\n"
   ]
  },
  {
   "cell_type": "code",
   "execution_count": 20,
   "metadata": {
    "scrolled": true
   },
   "outputs": [
    {
     "data": {
      "text/plain": [
       "(-0.001, 0.002)"
      ]
     },
     "execution_count": 20,
     "metadata": {},
     "output_type": "execute_result"
    },
    {
     "data": {
      "image/png": "[encoded data removed]",
      "text/plain": [
       "<Figure size 432x288 with 1 Axes>"
      ]
     },
     "metadata": {
      "needs_background": "light"
     },
     "output_type": "display_data"
    }
   ],
   "source": [
    "df_mean_distribution_multiple = pd.DataFrame(df_mean_distribution_multiple)\n",
    "df_mean_distribution_multiple.boxplot()\n",
    "plt.ylim(-0.001,0.002)"
   ]
  },
  {
   "cell_type": "markdown",
   "metadata": {},
   "source": [
    "# 3a Assets with current negative skew outperform one with positive skew?"
   ]
  },
  {
   "cell_type": "code",
   "execution_count": 45,
   "metadata": {},
   "outputs": [
    {
     "name": "stdout",
     "output_type": "stream",
     "text": [
      "Division by 0\n",
      "Division by 0\n",
      "Division by 0\n",
      "Division by 0\n",
      "Division by 0\n",
      "Division by 0\n",
      "Division by 0\n",
      "Division by 0\n",
      "Division by 0\n",
      "Division by 0\n",
      "Division by 0\n",
      "Division by 0\n",
      "Division by 0\n",
      "Division by 0\n",
      "Division by 0\n",
      "Division by 0\n",
      "Division by 0\n",
      "Division by 0\n",
      "Division by 0\n",
      "Division by 0\n",
      "Division by 0\n",
      "Division by 0\n",
      "Division by 0\n",
      "Division by 0\n",
      "Division by 0\n",
      "Division by 0\n",
      "Division by 0\n",
      "Division by 0\n",
      "Division by 0\n",
      "Division by 0\n",
      "Division by 0\n",
      "Division by 0\n",
      "Division by 0\n",
      "Division by 0\n",
      "Division by 0\n",
      "Division by 0\n",
      "Division by 0\n",
      "Division by 0\n",
      "Division by 0\n",
      "Division by 0\n",
      "Division by 0\n",
      "Division by 0\n",
      "Division by 0\n",
      "Division by 0\n",
      "Division by 0\n",
      "Division by 0\n",
      "Division by 0\n",
      "Division by 0\n",
      "Division by 0\n",
      "Division by 0\n",
      "Division by 0\n",
      "Division by 0\n",
      "Division by 0\n",
      "Division by 0\n",
      "Division by 0\n",
      "Division by 0\n",
      "Division by 0\n",
      "Division by 0\n",
      "Division by 0\n",
      "Division by 0\n",
      "Division by 0\n",
      "Division by 0\n",
      "Division by 0\n",
      "Division by 0\n",
      "Division by 0\n",
      "Division by 0\n",
      "Division by 0\n",
      "Division by 0\n",
      "Division by 0\n",
      "Division by 0\n",
      "Division by 0\n",
      "Division by 0\n",
      "Division by 0\n",
      "Division by 0\n",
      "Division by 0\n",
      "Division by 0\n",
      "Division by 0\n",
      "Division by 0\n",
      "Division by 0\n",
      "Division by 0\n",
      "Division by 0\n",
      "Division by 0\n",
      "Division by 0\n",
      "Division by 0\n",
      "Division by 0\n",
      "Division by 0\n",
      "Division by 0\n",
      "Division by 0\n",
      "Division by 0\n",
      "Division by 0\n",
      "Division by 0\n",
      "Division by 0\n",
      "Division by 0\n",
      "Division by 0\n",
      "Division by 0\n",
      "Division by 0\n",
      "Division by 0\n",
      "Division by 0\n",
      "Division by 0\n",
      "Division by 0\n",
      "Division by 0\n",
      "Division by 0\n",
      "Division by 0\n",
      "Division by 0\n",
      "Division by 0\n",
      "Division by 0\n",
      "Division by 0\n",
      "Division by 0\n",
      "Division by 0\n",
      "Division by 0\n",
      "Division by 0\n",
      "Division by 0\n",
      "Division by 0\n",
      "Division by 0\n",
      "Division by 0\n",
      "Division by 0\n",
      "Division by 0\n",
      "Division by 0\n"
     ]
    },
    {
     "data": {
      "text/plain": [
       "<matplotlib.axes._subplots.AxesSubplot at 0x7fb3a7d2eb80>"
      ]
     },
     "execution_count": 45,
     "metadata": {},
     "output_type": "execute_result"
    },
    {
     "data": {
      "image/png": "[encoded data removed]",
      "text/plain": [
       "<Figure size 432x288 with 1 Axes>"
      ]
     },
     "metadata": {
      "needs_background": "light"
     },
     "output_type": "display_data"
    }
   ],
   "source": [
    "from scipy.stats import ttest_ind\n",
    "all_SR_list = []\n",
    "count = 0\n",
    "loop = 0\n",
    "\n",
    "# t-stat tells how likely there exists a difference, but it does not tell the magnitude\n",
    "all_tstats=[]\n",
    "\n",
    "# Define \"current\" with multiple time horizon\n",
    "all_frequencies = [\"7D\", \"14D\", \"1M\", \"3M\", \"6M\", \"12M\"]\n",
    "\n",
    "for freq in all_frequencies:\n",
    "    all_results = []\n",
    "    for name in log_returns_dict:\n",
    "        \n",
    "            # rolling windows            \n",
    "            log_returns = log_returns_dict[name]\n",
    "            start_date = log_returns_dict[name].index[0]\n",
    "            end_date = log_returns_dict[name].index[-1]\n",
    "\n",
    "            periodstarts = list(pd.date_range(start_date, end_date, freq=freq)) + [end_date]\n",
    "            \n",
    "            for periodidx in range(len(periodstarts) - 2):               \n",
    "                p_start = periodstarts[periodidx]+pd.DateOffset(-1)\n",
    "                p_end = periodstarts[periodidx+1]+pd.DateOffset(-1)\n",
    "                s_start = periodstarts[periodidx+1]\n",
    "                s_end = periodstarts[periodidx+2]\n",
    "\n",
    "                period_skew = log_returns_dict[name][p_start:p_end].skew()\n",
    "                subsequent_return = log_returns_dict[name][s_start:s_end].mean()\n",
    "                subsequent_vol = log_returns_dict[name][s_start:s_end].std()\n",
    "                \n",
    "                # there are 118 ZeroDivisionError out of 57000 datapoints\n",
    "                try:\n",
    "                    subsequent_SR = 16*(subsequent_return / subsequent_vol)\n",
    "                except ZeroDivisionError:\n",
    "                    subsequent_SR = np.nan\n",
    "                    #print(\"Division by 0\")\n",
    "                    \n",
    "\n",
    "                if np.isnan(subsequent_SR) or np.isnan(period_skew):\n",
    "                    continue                \n",
    "                else:\n",
    "                    all_results.append([period_skew, subsequent_SR])\n",
    "                    \n",
    "    all_results=pd.DataFrame(all_results, columns=['x', 'y'])\n",
    "    avg_skew=all_results.x.median()\n",
    "    all_results[all_results.x>avg_skew].y.median()\n",
    "    all_results[all_results.x<avg_skew].y.median()\n",
    "\n",
    "    subsequent_distribution = dict()\n",
    "#     subsequent_distribution['High_skew'] = all_results[all_results.x>=avg_skew].y\n",
    "#     subsequent_distribution['Low_skew'] = all_results[all_results.x<avg_skew].y\n",
    "    subsequent_distribution['Pos_skew'] = all_results[all_results.x>=0].y\n",
    "    subsequent_distribution['Neg_skew'] = all_results[all_results.x<0].y\n",
    "    \n",
    "    subsequent_distribution = pd.DataFrame(subsequent_distribution)\n",
    "\n",
    "    med_SR =subsequent_sr_distribution.median()\n",
    "#     tstat = ttest_ind(subsequent_distribution.High_skew, subsequent_distribution.Low_skew, nan_policy=\"omit\").statistic\n",
    "    tstat = ttest_ind(subsequent_distribution.Pos_skew, subsequent_distribution.Neg_skew, nan_policy=\"omit\").statistic\n",
    "\n",
    "    all_SR_list.append(med_SR)\n",
    "    all_tstats.append(tstat)\n",
    "    \n",
    "all_tstats = pd.Series(all_tstats, index=all_frequencies)\n",
    "all_tstats.plot(x=\"Frequency\", y=\"t-statistics\")"
   ]
  },
  {
   "cell_type": "code",
   "execution_count": 44,
   "metadata": {},
   "outputs": [
    {
     "data": {
      "text/plain": [
       "Text(0, 0.5, 't-statistics')"
      ]
     },
     "execution_count": 44,
     "metadata": {},
     "output_type": "execute_result"
    },
    {
     "data": {
      "image/png": "[encoded data removed]",
      "text/plain": [
       "<Figure size 432x288 with 1 Axes>"
      ]
     },
     "metadata": {
      "needs_background": "light"
     },
     "output_type": "display_data"
    }
   ],
   "source": [
    "all_tstats.plot(x=\"Frequency\", y=\"t-statistics\")\n",
    "# plt.title(\"t-stat for the null hypothesis that positive and negative skewness create same expected return\")\n",
    "plt.xlabel(\"Frequency\")\n",
    "plt.ylabel(\"t-statistics\")"
   ]
  },
  {
   "cell_type": "code",
   "execution_count": null,
   "metadata": {},
   "outputs": [],
   "source": []
  }
 ],
 "metadata": {
  "kernelspec": {
   "display_name": "Python 3",
   "language": "python",
   "name": "python3"
  },
  "language_info": {
   "codemirror_mode": {
    "name": "ipython",
    "version": 3
   },
   "file_extension": ".py",
   "mimetype": "text/x-python",
   "name": "python",
   "nbconvert_exporter": "python",
   "pygments_lexer": "ipython3",
   "version": "3.8.3"
  }
 },
 "nbformat": 4,
 "nbformat_minor": 5
}
